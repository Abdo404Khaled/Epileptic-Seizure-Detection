{
  "cells": [
    {
      "cell_type": "code",
      "execution_count": 1,
      "metadata": {},
      "outputs": [
        {
          "name": "stdout",
          "output_type": "stream",
          "text": [
            "WARNING:tensorflow:From c:\\Users\\Mahmoud\\AppData\\Local\\Programs\\Python\\Python311\\Lib\\site-packages\\keras\\src\\losses.py:2976: The name tf.losses.sparse_softmax_cross_entropy is deprecated. Please use tf.compat.v1.losses.sparse_softmax_cross_entropy instead.\n",
            "\n"
          ]
        }
      ],
      "source": [
        "import cv2\n",
        "import os\n",
        "import pandas as pd\n",
        "import numpy as np\n",
        "from keras.models import Sequential\n",
        "from tensorflow.python.keras.layers import Dense\n",
        "from keras.layers import Dropout, BatchNormalization, Reshape, Conv2D, MaxPooling2D, Resizing, Flatten\n",
        "from keras.optimizers import Adam\n",
        "from keras.callbacks import EarlyStopping\n",
        "import matplotlib.pyplot as plt\n",
        "from tensorflow.keras.preprocessing.image import ImageDataGenerator"
      ]
    },
    {
      "cell_type": "code",
      "execution_count": null,
      "metadata": {
        "colab": {
          "base_uri": "https://localhost:8080/",
          "height": 104
        },
        "id": "Ac7PzwsZSOYv",
        "outputId": "35e2949a-ccf8-4d19-c222-2f17341e6a88"
      },
      "outputs": [],
      "source": [
        "train_path = 'person_images_train'\n",
        "test_path = 'person_images_test'\n",
        "\n",
        "image_paths_train = [os.path.join(train_path, file) for file in os.listdir(train_path) if file.endswith(('.jpg', '.png'))]\n",
        "train_data_images = [cv2.imread(img_path) for img_path in image_paths_train]\n",
        "\n",
        "image_paths_test = [os.path.join(test_path, file) for file in os.listdir(test_path) if file.endswith(('.jpg', '.png'))]\n",
        "test_data_images = [cv2.imread(img_path) for img_path in image_paths_test]\n",
        "\n",
        "num_images_to_display = 5\n",
        "\n",
        "print('Train Images')\n",
        "for i in range(min(num_images_to_display, len(train_data_images))):\n",
        "    plt.figure()\n",
        "    plt.imshow(train_data_images[i])\n",
        "    plt.axis('off')\n",
        "    plt.show()\n",
        "print('*'* 20)\n",
        "\n",
        "print('Test Images')\n",
        "for i in range(min(num_images_to_display, len(test_data_images))):\n",
        "    plt.figure()\n",
        "    plt.imshow(test_data_images[i])\n",
        "    plt.axis('off')\n",
        "    plt.show()\n",
        "\n",
        "print(f\"Number of Train Images: {len(train_data_images)}, Number of Test Images: {len(test_data_images)}\")"
      ]
    },
    {
      "cell_type": "code",
      "execution_count": null,
      "metadata": {
        "colab": {
          "base_uri": "https://localhost:8080/",
          "height": 424
        },
        "id": "I_wdPhgCeGGy",
        "outputId": "13b8c2c9-d62e-467a-82cd-65498c7cbebf"
      },
      "outputs": [],
      "source": [
        "y_train = pd.read_csv('Data/y_train.csv')\n",
        "y_test = pd.read_csv('Data/y_test.csv')\n",
        "\n",
        "y_train.shape, y_test.shape"
      ]
    },
    {
      "cell_type": "code",
      "execution_count": null,
      "metadata": {
        "id": "cEK7Okl9xdTw"
      },
      "outputs": [],
      "source": [
        "x_train = np.array(train_data_images) / 255.0\n",
        "x_test = np.array(test_data_images) / 255.0\n",
        "\n",
        "y_train = np.array(y_train)\n",
        "y_test = np.array(y_test)\n",
        "\n",
        "x_train.shape, y_train.shape, x_test.shape, y_test.shape"
      ]
    },
    {
      "cell_type": "code",
      "execution_count": null,
      "metadata": {
        "id": "tuXfLB0ORRln"
      },
      "outputs": [],
      "source": [
        "model = Sequential()\n",
        "\n",
        "new_image_height = 64\n",
        "new_image_width = 64\n",
        "\n",
        "model.add(Resizing(new_image_height, new_image_width, input_shape=(1, 177, 3)))\n",
        "\n",
        "model.add(Conv2D(32, kernel_size=(1, 1), activation='relu'))\n",
        "model.add(BatchNormalization())\n",
        "model.add(MaxPooling2D(pool_size=(1, 1)))\n",
        "\n",
        "model.add(Conv2D(64, kernel_size=(1, 1), activation='relu'))\n",
        "model.add(BatchNormalization())\n",
        "model.add(MaxPooling2D(pool_size=(1, 1)))\n",
        "\n",
        "model.add(Conv2D(128, kernel_size=(1, 1), activation='relu'))\n",
        "model.add(BatchNormalization())\n",
        "model.add(MaxPooling2D(pool_size=(1, 1)))\n",
        "\n",
        "model.add(Flatten())\n",
        "\n",
        "model.add(Dense(128, activation='relu'))\n",
        "model.add(BatchNormalization())\n",
        "model.add(Dropout(0.5))\n",
        "\n",
        "model.add(Dense(1, activation='sigmoid'))\n",
        "\n",
        "model.compile(optimizer=Adam(learning_rate=0.001), loss='binary_crossentropy', metrics=['accuracy'])\n"
      ]
    },
    {
      "cell_type": "code",
      "execution_count": null,
      "metadata": {
        "colab": {
          "base_uri": "https://localhost:8080/"
        },
        "id": "nHdp0T6k779s",
        "outputId": "fba3e57d-5c42-4e96-c03d-3b1df3b3b428"
      },
      "outputs": [],
      "source": [
        "datagen = ImageDataGenerator(\n",
        "    rotation_range=20,\n",
        "    width_shift_range=0.2,\n",
        "    height_shift_range=0.2,\n",
        "    shear_range=0.2,\n",
        "    zoom_range=0.2,\n",
        "    horizontal_flip=True,\n",
        "    fill_mode='nearest'\n",
        ")\n",
        "\n",
        "early_stopping = EarlyStopping(monitor='val_loss', patience=3, restore_best_weights=True)\n",
        "\n",
        "history = model.fit(\n",
        "        datagen.flow(x_train, y_train, batch_size=23),\n",
        "        epochs=50,\n",
        "        validation_data=[x_test, y_test],\n",
        "        callbacks=[early_stopping])\n"
      ]
    },
    {
      "cell_type": "code",
      "execution_count": null,
      "metadata": {},
      "outputs": [],
      "source": [
        "test_loss, test_acc = model.evaluate(X_test, y_test)\n",
        "print(f\"Test Accuracy: {test_acc}\")"
      ]
    },
    {
      "cell_type": "code",
      "execution_count": null,
      "metadata": {
        "colab": {
          "base_uri": "https://localhost:8080/",
          "height": 472
        },
        "id": "U8yU0j1g8ZII",
        "outputId": "f56c252e-0fb7-48bc-c5d7-6c547adf0379"
      },
      "outputs": [],
      "source": [
        "import matplotlib.pyplot as plt\n",
        "plt.plot(history.history['loss'], label='Training Loss')\n",
        "plt.plot(history.history['val_loss'], label='Validation Loss')\n",
        "plt.title('Training and Validation Loss')\n",
        "plt.xlabel('Epoch')\n",
        "plt.ylabel('Loss')\n",
        "plt.legend()\n",
        "plt.show()"
      ]
    },
    {
      "cell_type": "code",
      "execution_count": null,
      "metadata": {
        "colab": {
          "base_uri": "https://localhost:8080/",
          "height": 472
        },
        "id": "ffbugi7WA1Vp",
        "outputId": "65bf7471-2fc8-4ec4-ec83-3761f21ae09e"
      },
      "outputs": [],
      "source": [
        "plt.plot(history.history['accuracy'])\n",
        "plt.plot(history.history['val_accuracy'])\n",
        "plt.title('Model accuracy')\n",
        "plt.ylabel('Accuracy')\n",
        "plt.xlabel('Epoch')\n",
        "plt.legend(['Train'], loc='upper left')\n",
        "plt.show()"
      ]
    },
    {
      "cell_type": "code",
      "execution_count": null,
      "metadata": {
        "id": "v1OaFts8RCfi"
      },
      "outputs": [],
      "source": []
    }
  ],
  "metadata": {
    "accelerator": "TPU",
    "colab": {
      "provenance": []
    },
    "kernelspec": {
      "display_name": "Python 3",
      "name": "python3"
    },
    "language_info": {
      "codemirror_mode": {
        "name": "ipython",
        "version": 3
      },
      "file_extension": ".py",
      "mimetype": "text/x-python",
      "name": "python",
      "nbconvert_exporter": "python",
      "pygments_lexer": "ipython3",
      "version": "3.11.3"
    }
  },
  "nbformat": 4,
  "nbformat_minor": 0
}
