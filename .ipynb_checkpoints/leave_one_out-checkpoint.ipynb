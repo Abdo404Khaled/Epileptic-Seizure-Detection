{
 "cells": [
  {
   "cell_type": "code",
   "execution_count": null,
   "id": "cb4b218c",
   "metadata": {},
   "outputs": [],
   "source": [
    "import pandas as pd\n",
    "import tensorflow as tf\n",
    "from tensorflow.keras.models import Sequential\n",
    "from tensorflow.keras.layers import LSTM, Dropout, Dense\n",
    "from helper.modules import EpilepticSeizure, LeaveOneOut\n",
    "from tensorflow.keras.callbacks import LearningRateScheduler, EarlyStopping"
   ]
  },
  {
   "cell_type": "code",
   "execution_count": null,
   "id": "f8a3b163",
   "metadata": {
    "execution": {
     "iopub.execute_input": "2023-12-07T21:45:23.834715Z",
     "iopub.status.busy": "2023-12-07T21:45:23.834080Z",
     "iopub.status.idle": "2023-12-07T21:45:35.298495Z",
     "shell.execute_reply": "2023-12-07T21:45:35.297523Z"
    },
    "papermill": {
     "duration": 11.473553,
     "end_time": "2023-12-07T21:45:35.300640",
     "exception": false,
     "start_time": "2023-12-07T21:45:23.827087",
     "status": "completed"
    },
    "tags": []
   },
   "outputs": [],
   "source": [
    "config = {\n",
    "    \"data_path\": \"Data/signals.csv\",\n",
    "    \"add_noise\": False,\n",
    "    \"oversampling\": False,\n",
    "    \"undersampling\": False\n",
    "}\n",
    "\n",
    "es = EpilepticSeizure(config)\n",
    "\n",
    "X, y = es.process()\n",
    "\n",
    "X.shape, y.shape"
   ]
  },
  {
   "cell_type": "code",
   "execution_count": 10,
   "id": "d620ddfc",
   "metadata": {},
   "outputs": [
    {
     "name": "stdout",
     "output_type": "stream",
     "text": [
      ".DS_Store\n",
      "A\n",
      "Z001.txt\n",
      "Z002.txt\n",
      "Z003.txt\n",
      "Z004.txt\n",
      "Z005.txt\n",
      "Z006.txt\n",
      "Z007.txt\n",
      "Z008.txt\n",
      "Z009.txt\n",
      "Z010.txt\n",
      "Z011.txt\n",
      "Z012.txt\n",
      "Z013.txt\n",
      "Z014.txt\n",
      "Z015.txt\n",
      "Z016.txt\n",
      "Z017.txt\n",
      "Z018.txt\n",
      "Z019.txt\n",
      "Z020.txt\n",
      "Z021.txt\n",
      "Z022.txt\n",
      "Z023.txt\n",
      "Z024.txt\n",
      "Z025.txt\n",
      "Z026.txt\n",
      "Z027.txt\n",
      "Z028.txt\n",
      "Z029.txt\n",
      "Z030.txt\n",
      "Z031.txt\n",
      "Z032.txt\n",
      "Z033.txt\n",
      "Z034.txt\n",
      "Z035.txt\n",
      "Z036.txt\n",
      "Z037.txt\n",
      "Z038.txt\n",
      "Z039.txt\n",
      "Z040.txt\n",
      "Z041.txt\n",
      "Z042.txt\n",
      "Z043.txt\n",
      "Z044.txt\n",
      "Z045.txt\n",
      "Z046.txt\n",
      "Z047.txt\n",
      "Z048.txt\n",
      "Z049.txt\n",
      "Z050.txt\n",
      "Z051.txt\n",
      "Z052.txt\n",
      "Z053.txt\n",
      "Z054.txt\n",
      "Z055.txt\n",
      "Z056.txt\n",
      "Z057.txt\n",
      "Z058.txt\n",
      "Z059.txt\n",
      "Z060.txt\n",
      "Z061.txt\n",
      "Z062.txt\n",
      "Z063.txt\n",
      "Z064.txt\n",
      "Z065.txt\n",
      "Z066.txt\n",
      "Z067.txt\n",
      "Z068.txt\n",
      "Z069.txt\n",
      "Z070.txt\n",
      "Z071.txt\n",
      "Z072.txt\n",
      "Z073.txt\n",
      "Z074.txt\n",
      "Z075.txt\n",
      "Z076.txt\n",
      "Z077.txt\n",
      "Z078.txt\n",
      "Z079.txt\n",
      "Z080.txt\n",
      "Z081.txt\n",
      "Z082.txt\n",
      "Z083.txt\n",
      "Z084.txt\n",
      "Z085.txt\n",
      "Z086.txt\n",
      "Z087.txt\n",
      "Z088.txt\n",
      "Z089.txt\n",
      "Z090.txt\n",
      "Z091.txt\n",
      "Z092.txt\n",
      "Z093.txt\n",
      "Z094.txt\n",
      "Z095.txt\n",
      "Z096.txt\n",
      "Z097.txt\n",
      "Z098.txt\n",
      "Z099.txt\n",
      "Z100.txt\n"
     ]
    }
   ],
   "source": [
    "# import os\n",
    "\n",
    "# for folder in sorted(os.listdir(\"Data\")):\n",
    "#     if '.' in folder:\n",
    "#         continue\n",
    "\n",
    "#     for file in sorted(os.listdir(f\"Data/{folder}\")):\n",
    "#         os.\n",
    "#     break"
   ]
  },
  {
   "cell_type": "code",
   "execution_count": null,
   "id": "bfccae6e",
   "metadata": {
    "execution": {
     "iopub.execute_input": "2023-12-07T21:45:35.414192Z",
     "iopub.status.busy": "2023-12-07T21:45:35.413918Z",
     "iopub.status.idle": "2023-12-07T21:45:45.074651Z",
     "shell.execute_reply": "2023-12-07T21:45:45.073637Z"
    },
    "papermill": {
     "duration": 9.670526,
     "end_time": "2023-12-07T21:45:45.077103",
     "exception": false,
     "start_time": "2023-12-07T21:45:35.406577",
     "status": "completed"
    },
    "tags": []
   },
   "outputs": [],
   "source": [
    "def scheduler(epoch, lr):\n",
    "    if epoch < 5:\n",
    "        return lr\n",
    "    else:\n",
    "        return lr * tf.math.exp(-0.1)\n",
    "\n",
    "def build_model(num_classes=1):\n",
    "    tf.keras.backend.clear_session()\n",
    "    model = Sequential()\n",
    "    model.add(LSTM(256, input_shape=(1, 178), activation='relu', return_sequences=True))\n",
    "    model.add(LSTM(128, activation='relu', return_sequences=True))\n",
    "    model.add(LSTM(64, activation='relu', return_sequences=True))\n",
    "    model.add(LSTM(32, activation='relu'))\n",
    "    model.add(Dropout(0.5))\n",
    "    model.add(Dense(2, activation='softmax'))\n",
    "\n",
    "    lr_scheduler = LearningRateScheduler(scheduler)\n",
    "\n",
    "    early_stopping = EarlyStopping(monitor='val_loss', patience=5, restore_best_weights=True)\n",
    "\n",
    "    model.compile(optimizer='adam', loss='categorical_crossentropy', metrics=['accuracy'])\n",
    "\n",
    "    return model"
   ]
  },
  {
   "cell_type": "code",
   "execution_count": null,
   "id": "5ab3bc61",
   "metadata": {},
   "outputs": [],
   "source": [
    "model = build_model()\n",
    "model.summary()"
   ]
  },
  {
   "cell_type": "code",
   "execution_count": null,
   "id": "60bef760",
   "metadata": {
    "execution": {
     "iopub.execute_input": "2023-12-07T21:45:45.092283Z",
     "iopub.status.busy": "2023-12-07T21:45:45.091774Z",
     "iopub.status.idle": "2023-12-07T21:45:45.096671Z",
     "shell.execute_reply": "2023-12-07T21:45:45.095833Z"
    },
    "papermill": {
     "duration": 0.014314,
     "end_time": "2023-12-07T21:45:45.098478",
     "exception": false,
     "start_time": "2023-12-07T21:45:45.084164",
     "status": "completed"
    },
    "tags": []
   },
   "outputs": [],
   "source": [
    "test = LeaveOneOut(data, build_model, 14, 'porn_addiction')"
   ]
  },
  {
   "cell_type": "code",
   "execution_count": null,
   "id": "c338ab18",
   "metadata": {
    "execution": {
     "iopub.execute_input": "2023-12-07T21:45:45.112684Z",
     "iopub.status.busy": "2023-12-07T21:45:45.112419Z",
     "iopub.status.idle": "2023-12-07T22:01:46.565175Z",
     "shell.execute_reply": "2023-12-07T22:01:46.564034Z"
    },
    "papermill": {
     "duration": 961.462376,
     "end_time": "2023-12-07T22:01:46.567369",
     "exception": false,
     "start_time": "2023-12-07T21:45:45.104993",
     "status": "completed"
    },
    "tags": []
   },
   "outputs": [],
   "source": [
    "from tensorflow.keras.callbacks import EarlyStopping\n",
    "\n",
    "early_stopping = EarlyStopping(monitor='loss', patience=5, verbose=1)\n",
    "\n",
    "models = test.train(epoch = 5, batch_size = 1250, callbacks = [early_stopping])"
   ]
  }
 ],
 "metadata": {
  "kaggle": {
   "accelerator": "nvidiaTeslaT4",
   "dataSources": [],
   "dockerImageVersionId": 30559,
   "isGpuEnabled": true,
   "isInternetEnabled": true,
   "language": "python",
   "sourceType": "notebook"
  },
  "kernelspec": {
   "display_name": "Python 3",
   "language": "python",
   "name": "python3"
  },
  "language_info": {
   "codemirror_mode": {
    "name": "ipython",
    "version": 3
   },
   "file_extension": ".py",
   "mimetype": "text/x-python",
   "name": "python",
   "nbconvert_exporter": "python",
   "pygments_lexer": "ipython3",
   "version": "3.9.19"
  },
  "papermill": {
   "default_parameters": {},
   "duration": 1001.390121,
   "end_time": "2023-12-07T22:01:50.842594",
   "environment_variables": {},
   "exception": null,
   "input_path": "__notebook__.ipynb",
   "output_path": "__notebook__.ipynb",
   "parameters": {},
   "start_time": "2023-12-07T21:45:09.452473",
   "version": "2.4.0"
  }
 },
 "nbformat": 4,
 "nbformat_minor": 5
}
