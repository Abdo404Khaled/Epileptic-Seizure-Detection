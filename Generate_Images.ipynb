{
  "cells": [
    {
      "cell_type": "code",
      "execution_count": 1,
      "metadata": {
        "id": "Rc9ufwl_KGSe"
      },
      "outputs": [],
      "source": [
        "import os\n",
        "import pandas as pd\n",
        "import numpy as np\n",
        "from tqdm import tqdm\n",
        "import matplotlib.pyplot as plt"
      ]
    },
    {
      "cell_type": "markdown",
      "metadata": {},
      "source": [
        "## Example of storing File on blockchain an then retrieving data from it"
      ]
    },
    {
      "cell_type": "code",
      "execution_count": 6,
      "metadata": {},
      "outputs": [
        {
          "name": "stdout",
          "output_type": "stream",
          "text": [
            "File uploaded to IPFS with CID: Qma94VFefdqoaMq3QZGsh2qPn7p3XMkE9N4MszRwCanNCW\n"
          ]
        }
      ],
      "source": [
        "import requests\n",
        "\n",
        "# Path to your CSV file\n",
        "file_path = 'D:\\Research\\Mind Lab\\Epileptic-Seizure-Detection\\Data\\signals.csv'\n",
        "\n",
        "# IPFS HTTP API endpoint\n",
        "url = 'http://127.0.0.1:5001/api/v0/add'\n",
        "\n",
        "# Upload the file\n",
        "with open(file_path, 'rb') as f:\n",
        "    response = requests.post(url, files={'file': f})\n",
        "\n",
        "# Get the CID from the response\n",
        "cid = response.json()['Hash']\n",
        "print(f'File uploaded to IPFS with CID: {cid}')\n"
      ]
    },
    {
      "cell_type": "code",
      "execution_count": 8,
      "metadata": {},
      "outputs": [
        {
          "data": {
            "text/html": [
              "<div>\n",
              "<style scoped>\n",
              "    .dataframe tbody tr th:only-of-type {\n",
              "        vertical-align: middle;\n",
              "    }\n",
              "\n",
              "    .dataframe tbody tr th {\n",
              "        vertical-align: top;\n",
              "    }\n",
              "\n",
              "    .dataframe thead th {\n",
              "        text-align: right;\n",
              "    }\n",
              "</style>\n",
              "<table border=\"1\" class=\"dataframe\">\n",
              "  <thead>\n",
              "    <tr style=\"text-align: right;\">\n",
              "      <th></th>\n",
              "      <th>Unnamed: 0</th>\n",
              "      <th>X1</th>\n",
              "      <th>X2</th>\n",
              "      <th>X3</th>\n",
              "      <th>X4</th>\n",
              "      <th>X5</th>\n",
              "      <th>X6</th>\n",
              "      <th>X7</th>\n",
              "      <th>X8</th>\n",
              "      <th>X9</th>\n",
              "      <th>...</th>\n",
              "      <th>X170</th>\n",
              "      <th>X171</th>\n",
              "      <th>X172</th>\n",
              "      <th>X173</th>\n",
              "      <th>X174</th>\n",
              "      <th>X175</th>\n",
              "      <th>X176</th>\n",
              "      <th>X177</th>\n",
              "      <th>X178</th>\n",
              "      <th>y</th>\n",
              "    </tr>\n",
              "  </thead>\n",
              "  <tbody>\n",
              "    <tr>\n",
              "      <th>0</th>\n",
              "      <td>X21.V1.791</td>\n",
              "      <td>135</td>\n",
              "      <td>190</td>\n",
              "      <td>229</td>\n",
              "      <td>223</td>\n",
              "      <td>192</td>\n",
              "      <td>125</td>\n",
              "      <td>55</td>\n",
              "      <td>-9</td>\n",
              "      <td>-33</td>\n",
              "      <td>...</td>\n",
              "      <td>-17</td>\n",
              "      <td>-15</td>\n",
              "      <td>-31</td>\n",
              "      <td>-77</td>\n",
              "      <td>-103</td>\n",
              "      <td>-127</td>\n",
              "      <td>-116</td>\n",
              "      <td>-83</td>\n",
              "      <td>-51</td>\n",
              "      <td>4</td>\n",
              "    </tr>\n",
              "    <tr>\n",
              "      <th>1</th>\n",
              "      <td>X15.V1.924</td>\n",
              "      <td>386</td>\n",
              "      <td>382</td>\n",
              "      <td>356</td>\n",
              "      <td>331</td>\n",
              "      <td>320</td>\n",
              "      <td>315</td>\n",
              "      <td>307</td>\n",
              "      <td>272</td>\n",
              "      <td>244</td>\n",
              "      <td>...</td>\n",
              "      <td>164</td>\n",
              "      <td>150</td>\n",
              "      <td>146</td>\n",
              "      <td>152</td>\n",
              "      <td>157</td>\n",
              "      <td>156</td>\n",
              "      <td>154</td>\n",
              "      <td>143</td>\n",
              "      <td>129</td>\n",
              "      <td>1</td>\n",
              "    </tr>\n",
              "    <tr>\n",
              "      <th>2</th>\n",
              "      <td>X8.V1.1</td>\n",
              "      <td>-32</td>\n",
              "      <td>-39</td>\n",
              "      <td>-47</td>\n",
              "      <td>-37</td>\n",
              "      <td>-32</td>\n",
              "      <td>-36</td>\n",
              "      <td>-57</td>\n",
              "      <td>-73</td>\n",
              "      <td>-85</td>\n",
              "      <td>...</td>\n",
              "      <td>57</td>\n",
              "      <td>64</td>\n",
              "      <td>48</td>\n",
              "      <td>19</td>\n",
              "      <td>-12</td>\n",
              "      <td>-30</td>\n",
              "      <td>-35</td>\n",
              "      <td>-35</td>\n",
              "      <td>-36</td>\n",
              "      <td>5</td>\n",
              "    </tr>\n",
              "    <tr>\n",
              "      <th>3</th>\n",
              "      <td>X16.V1.60</td>\n",
              "      <td>-105</td>\n",
              "      <td>-101</td>\n",
              "      <td>-96</td>\n",
              "      <td>-92</td>\n",
              "      <td>-89</td>\n",
              "      <td>-95</td>\n",
              "      <td>-102</td>\n",
              "      <td>-100</td>\n",
              "      <td>-87</td>\n",
              "      <td>...</td>\n",
              "      <td>-82</td>\n",
              "      <td>-81</td>\n",
              "      <td>-80</td>\n",
              "      <td>-77</td>\n",
              "      <td>-85</td>\n",
              "      <td>-77</td>\n",
              "      <td>-72</td>\n",
              "      <td>-69</td>\n",
              "      <td>-65</td>\n",
              "      <td>5</td>\n",
              "    </tr>\n",
              "    <tr>\n",
              "      <th>4</th>\n",
              "      <td>X20.V1.54</td>\n",
              "      <td>-9</td>\n",
              "      <td>-65</td>\n",
              "      <td>-98</td>\n",
              "      <td>-102</td>\n",
              "      <td>-78</td>\n",
              "      <td>-48</td>\n",
              "      <td>-16</td>\n",
              "      <td>0</td>\n",
              "      <td>-21</td>\n",
              "      <td>...</td>\n",
              "      <td>4</td>\n",
              "      <td>2</td>\n",
              "      <td>-12</td>\n",
              "      <td>-32</td>\n",
              "      <td>-41</td>\n",
              "      <td>-65</td>\n",
              "      <td>-83</td>\n",
              "      <td>-89</td>\n",
              "      <td>-73</td>\n",
              "      <td>5</td>\n",
              "    </tr>\n",
              "  </tbody>\n",
              "</table>\n",
              "<p>5 rows × 180 columns</p>\n",
              "</div>"
            ],
            "text/plain": [
              "   Unnamed: 0   X1   X2   X3   X4   X5   X6   X7   X8   X9  ...  X170  X171  \\\n",
              "0  X21.V1.791  135  190  229  223  192  125   55   -9  -33  ...   -17   -15   \n",
              "1  X15.V1.924  386  382  356  331  320  315  307  272  244  ...   164   150   \n",
              "2     X8.V1.1  -32  -39  -47  -37  -32  -36  -57  -73  -85  ...    57    64   \n",
              "3   X16.V1.60 -105 -101  -96  -92  -89  -95 -102 -100  -87  ...   -82   -81   \n",
              "4   X20.V1.54   -9  -65  -98 -102  -78  -48  -16    0  -21  ...     4     2   \n",
              "\n",
              "   X172  X173  X174  X175  X176  X177  X178  y  \n",
              "0   -31   -77  -103  -127  -116   -83   -51  4  \n",
              "1   146   152   157   156   154   143   129  1  \n",
              "2    48    19   -12   -30   -35   -35   -36  5  \n",
              "3   -80   -77   -85   -77   -72   -69   -65  5  \n",
              "4   -12   -32   -41   -65   -83   -89   -73  5  \n",
              "\n",
              "[5 rows x 180 columns]"
            ]
          },
          "execution_count": 8,
          "metadata": {},
          "output_type": "execute_result"
        }
      ],
      "source": [
        "import requests\n",
        "import pandas as pd\n",
        "import io\n",
        "\n",
        "# CID of the uploaded CSV file\n",
        "cid = 'Qma94VFefdqoaMq3QZGsh2qPn7p3XMkE9N4MszRwCanNCW'  # Replace with your actual CID\n",
        "\n",
        "# IPFS gateway URL to retrieve the file\n",
        "gateway_url = f'http://127.0.0.1:8081/ipfs/{cid}'\n",
        "\n",
        "# Retrieve the file content\n",
        "response = requests.get(gateway_url)\n",
        "\n",
        "# Convert bytes to string and then to a pandas DataFrame\n",
        "csv_data = response.content.decode('utf-8')\n",
        "df = pd.read_csv(io.StringIO(csv_data))\n",
        "\n",
        "# Display the DataFrame\n",
        "df.head()"
      ]
    },
    {
      "cell_type": "code",
      "execution_count": 2,
      "metadata": {},
      "outputs": [
        {
          "data": {
            "text/plain": [
              "((42550, 178), (1150, 178), (42550, 1), (1150, 1))"
            ]
          },
          "execution_count": 2,
          "metadata": {},
          "output_type": "execute_result"
        }
      ],
      "source": [
        "x_train = pd.read_csv('data/x_train.csv')\n",
        "x_test = pd.read_csv('data/x_test.csv')\n",
        "y_train = pd.read_csv('data/y_train.csv')\n",
        "y_test = pd.read_csv('data/y_test.csv')\n",
        "\n",
        "\n",
        "x_train.shape, x_test.shape, y_train.shape, y_test.shape"
      ]
    },
    {
      "cell_type": "code",
      "execution_count": 3,
      "metadata": {
        "colab": {
          "base_uri": "https://localhost:8080/"
        },
        "id": "xBV4ZM2OJqiN",
        "outputId": "b09abc45-3e39-461c-ad22-3cea615ab87f"
      },
      "outputs": [
        {
          "name": "stderr",
          "output_type": "stream",
          "text": [
            "Processing images:   4%|▍         | 1733/42550 [00:09<03:22, 201.95it/s]/var/folders/78/20zm8p5d34g6v9kz5nf2tbnm0000gn/T/ipykernel_27969/1668597394.py:8: RuntimeWarning: divide by zero encountered in divide\n",
            "  person_matrix = person_matrix / person_matrix.max()\n",
            "/var/folders/78/20zm8p5d34g6v9kz5nf2tbnm0000gn/T/ipykernel_27969/1668597394.py:8: RuntimeWarning: invalid value encountered in divide\n",
            "  person_matrix = person_matrix / person_matrix.max()\n",
            "Processing images: 100%|██████████| 42550/42550 [11:42<00:00, 60.53it/s]   "
          ]
        },
        {
          "name": "stdout",
          "output_type": "stream",
          "text": [
            "Images are saved in the folder: person_images_train\n"
          ]
        },
        {
          "name": "stderr",
          "output_type": "stream",
          "text": [
            "\n"
          ]
        }
      ],
      "source": [
        "X_reshaped = np.array([x_train.iloc[i, :].values for i in range(len(x_train))])\n",
        "\n",
        "output_folder = 'person_images_train'\n",
        "os.makedirs(output_folder, exist_ok=True)\n",
        "\n",
        "for i, person_data in enumerate(tqdm(X_reshaped, desc='Processing images')):\n",
        "    person_matrix = person_data.reshape((1, 178))\n",
        "    person_matrix = person_matrix / person_matrix.max()\n",
        "    plt.figure(figsize=(8, 4))\n",
        "    plt.imshow(person_matrix, cmap='viridis', interpolation='nearest', aspect='auto')\n",
        "    plt.axis('off')\n",
        "    image_path = os.path.join(output_folder, f'reading_{i}.png')\n",
        "    plt.imsave(image_path, person_matrix, cmap='viridis')\n",
        "    plt.close()\n",
        "\n",
        "print(f\"Images are saved in the folder: {output_folder}\")"
      ]
    },
    {
      "cell_type": "code",
      "execution_count": 4,
      "metadata": {
        "id": "9Kw75U6tMB0J"
      },
      "outputs": [
        {
          "name": "stderr",
          "output_type": "stream",
          "text": [
            "Processing images:   0%|          | 0/1150 [00:00<?, ?it/s]"
          ]
        },
        {
          "name": "stderr",
          "output_type": "stream",
          "text": [
            "Processing images:  36%|███▌      | 415/1150 [00:01<00:03, 218.99it/s]/var/folders/78/20zm8p5d34g6v9kz5nf2tbnm0000gn/T/ipykernel_27969/3224925415.py:8: RuntimeWarning: divide by zero encountered in divide\n",
            "  person_matrix = person_matrix / person_matrix.max()\n",
            "/var/folders/78/20zm8p5d34g6v9kz5nf2tbnm0000gn/T/ipykernel_27969/3224925415.py:8: RuntimeWarning: invalid value encountered in divide\n",
            "  person_matrix = person_matrix / person_matrix.max()\n",
            "Processing images: 100%|██████████| 1150/1150 [00:05<00:00, 202.13it/s]"
          ]
        },
        {
          "name": "stdout",
          "output_type": "stream",
          "text": [
            "Images are saved in the folder: person_images_test\n"
          ]
        },
        {
          "name": "stderr",
          "output_type": "stream",
          "text": [
            "\n"
          ]
        }
      ],
      "source": [
        "X_reshaped = np.array([x_test.iloc[i, :].values for i in range(len(x_test))])\n",
        "\n",
        "output_folder = 'person_images_test'\n",
        "os.makedirs(output_folder, exist_ok=True)\n",
        "\n",
        "for i, person_data in enumerate(tqdm(X_reshaped, desc='Processing images')):\n",
        "    person_matrix = person_data.reshape((1, 178))\n",
        "    person_matrix = person_matrix / person_matrix.max()\n",
        "    plt.figure(figsize=(8, 4))\n",
        "    plt.imshow(person_matrix, cmap='viridis', interpolation='nearest', aspect='auto')\n",
        "    plt.axis('off')\n",
        "    image_path = os.path.join(output_folder, f'reading_{i+1}.png')\n",
        "    plt.imsave(image_path, person_matrix, cmap='viridis')\n",
        "    plt.close()\n",
        "\n",
        "print(f\"Images are saved in the folder: {output_folder}\")"
      ]
    },
    {
      "cell_type": "code",
      "execution_count": null,
      "metadata": {
        "id": "qADrBHy_REWp"
      },
      "outputs": [],
      "source": []
    }
  ],
  "metadata": {
    "accelerator": "GPU",
    "colab": {
      "gpuType": "T4",
      "provenance": []
    },
    "kernelspec": {
      "display_name": "Python 3",
      "name": "python3"
    },
    "language_info": {
      "codemirror_mode": {
        "name": "ipython",
        "version": 3
      },
      "file_extension": ".py",
      "mimetype": "text/x-python",
      "name": "python",
      "nbconvert_exporter": "python",
      "pygments_lexer": "ipython3",
      "version": "3.11.3"
    }
  },
  "nbformat": 4,
  "nbformat_minor": 0
}
