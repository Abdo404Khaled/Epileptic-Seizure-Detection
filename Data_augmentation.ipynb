{
 "cells": [
  {
   "cell_type": "code",
   "execution_count": 10,
   "metadata": {},
   "outputs": [],
   "source": [
    "import pandas as pd\n",
    "from sklearn.model_selection import train_test_split\n",
    "import numpy as np\n",
    "from scipy.interpolate import interp1d\n",
    "from scipy.signal import resample\n",
    "from imblearn.over_sampling import RandomOverSampler\n",
    "from imblearn.under_sampling import RandomUnderSampler\n",
    "from tqdm import tqdm"
   ]
  },
  {
   "cell_type": "code",
   "execution_count": 11,
   "metadata": {},
   "outputs": [],
   "source": [
    "data = pd.read_csv(\"signals.csv\")\n",
    "\n",
    "X = data.iloc[:,1:-1]\n",
    "y = data.iloc[:,-1:]"
   ]
  },
  {
   "cell_type": "code",
   "execution_count": 12,
   "metadata": {},
   "outputs": [],
   "source": [
    "y = y['y'].apply(lambda x: 1 if x == 1 else 0)\n",
    "y = pd.DataFrame(data=y)"
   ]
  },
  {
   "cell_type": "code",
   "execution_count": 13,
   "metadata": {},
   "outputs": [
    {
     "data": {
      "text/plain": [
       "((10350, 178), (1150, 178), (10350, 1), (1150, 1))"
      ]
     },
     "execution_count": 13,
     "metadata": {},
     "output_type": "execute_result"
    }
   ],
   "source": [
    "x_train, x_test, y_train, y_test = train_test_split(X, y, test_size = 0.1, shuffle=False)\n",
    "\n",
    "x_train.shape, x_test.shape, y_train.shape, y_test.shape"
   ]
  },
  {
   "cell_type": "code",
   "execution_count": 14,
   "metadata": {},
   "outputs": [
    {
     "data": {
      "text/plain": [
       "((10350, 178), (10350, 1))"
      ]
     },
     "execution_count": 14,
     "metadata": {},
     "output_type": "execute_result"
    }
   ],
   "source": [
    "augmented_data = []\n",
    "\n",
    "for idx, row in x_train.iterrows():\n",
    "    data = row.values\n",
    "    label = y.iloc[idx]\n",
    "\n",
    "    noise_level = np.random.uniform(0, 0.1)\n",
    "    noisy_data = data + noise_level * np.random.normal(size=len(data))\n",
    "\n",
    "    factor = np.random.uniform(0.9, 1.1)\n",
    "    x = np.arange(len(noisy_data))\n",
    "    f = interp1d(x, noisy_data)\n",
    "    new_x = np.linspace(0, len(noisy_data) - 1, int(len(noisy_data) * factor))\n",
    "    interpolated_data = f(new_x)\n",
    "\n",
    "    resampled_data = resample(interpolated_data, len(data))\n",
    "\n",
    "    augmented_data.append(np.append(resampled_data, label))\n",
    "\n",
    "augmented_data = np.array(augmented_data)\n",
    "\n",
    "np.random.shuffle(augmented_data)\n",
    "\n",
    "X_augmented_noise = pd.DataFrame(augmented_data[:, :-1], columns=X.columns)\n",
    "y_augmented_noise = pd.DataFrame(augmented_data[:, -1], columns=['y'])\n",
    "\n",
    "X_augmented_noise.shape, y_augmented_noise.shape"
   ]
  },
  {
   "cell_type": "code",
   "execution_count": 15,
   "metadata": {},
   "outputs": [
    {
     "data": {
      "text/plain": [
       "((4126, 178), (4126, 1), (16574, 178), (16574, 1))"
      ]
     },
     "execution_count": 15,
     "metadata": {},
     "output_type": "execute_result"
    }
   ],
   "source": [
    "rus = RandomUnderSampler(random_state=42)\n",
    "X_under_resampled, y_under_resampled = rus.fit_resample(x_train, y_train)\n",
    "\n",
    "ros = RandomOverSampler(random_state=42)\n",
    "X_over_resampled, y_over_resampled = ros.fit_resample(x_train, y_train)\n",
    "\n",
    "X_under_resampled.shape, y_under_resampled.shape, X_over_resampled.shape, y_over_resampled.shape"
   ]
  },
  {
   "cell_type": "code",
   "execution_count": 16,
   "metadata": {},
   "outputs": [
    {
     "data": {
      "text/plain": [
       "((42550, 178), (42550, 1))"
      ]
     },
     "execution_count": 16,
     "metadata": {},
     "output_type": "execute_result"
    }
   ],
   "source": [
    "x_columns= x_train.columns\n",
    "y_columns = y_train.columns\n",
    "\n",
    "x_train = x_train.values\n",
    "y_train = y_train.values\n",
    "\n",
    "X_augmented_noise = X_augmented_noise.values\n",
    "y_augmented_noise = y_augmented_noise.values\n",
    "\n",
    "X_under_resampled = X_under_resampled.values\n",
    "y_under_resampled = y_under_resampled.values\n",
    "\n",
    "X_over_resampled = X_over_resampled.values\n",
    "y_over_resampled = y_over_resampled.values\n",
    "\n",
    "x_train = np.vstack((X, X_augmented_noise, X_under_resampled, X_over_resampled))\n",
    "y_train = np.concatenate((y, y_augmented_noise, y_under_resampled, y_over_resampled))\n",
    "\n",
    "x_train = pd.DataFrame(x_train, columns=x_columns)\n",
    "y_train = pd.DataFrame(y_train, columns=y_columns)\n",
    "\n",
    "x_train.shape, y_train.shape"
   ]
  },
  {
   "cell_type": "code",
   "execution_count": 21,
   "metadata": {},
   "outputs": [
    {
     "data": {
      "text/plain": [
       "((42550, 178), (1150, 178), (42550, 1), (1150, 1))"
      ]
     },
     "execution_count": 21,
     "metadata": {},
     "output_type": "execute_result"
    }
   ],
   "source": [
    "x_train.shape, x_test.shape, y_train.shape, y_test.shape"
   ]
  },
  {
   "cell_type": "code",
   "execution_count": 23,
   "metadata": {},
   "outputs": [],
   "source": [
    "x_train.to_csv('Data/x_train.csv', index=False)\n",
    "x_test.to_csv('Data/x_test.csv', index=False)\n",
    "y_train.to_csv('Data/y_train.csv', index=False)\n",
    "y_test.to_csv('Data/y_test.csv', index=False)"
   ]
  },
  {
   "cell_type": "code",
   "execution_count": null,
   "metadata": {},
   "outputs": [],
   "source": [
    "# Random Sampling\n",
    "# Kappa Coefficient"
   ]
  }
 ],
 "metadata": {
  "kernelspec": {
   "display_name": "work",
   "language": "python",
   "name": "python3"
  },
  "language_info": {
   "codemirror_mode": {
    "name": "ipython",
    "version": 3
   },
   "file_extension": ".py",
   "mimetype": "text/x-python",
   "name": "python",
   "nbconvert_exporter": "python",
   "pygments_lexer": "ipython3",
   "version": "3.9.18"
  }
 },
 "nbformat": 4,
 "nbformat_minor": 2
}
