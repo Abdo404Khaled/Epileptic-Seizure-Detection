{
 "cells": [
  {
   "cell_type": "code",
   "execution_count": 1,
   "id": "cb4b218c",
   "metadata": {},
   "outputs": [],
   "source": [
    "import numpy as np\n",
    "import pandas as pd\n",
    "import tensorflow as tf\n",
    "from tensorflow.keras.models import Sequential\n",
    "from tensorflow.keras.layers import LSTM, Dropout, Dense\n",
    "from helper.modules import EpilepticSeizure, LeaveOneOut\n",
    "from tensorflow.keras.callbacks import LearningRateScheduler, EarlyStopping"
   ]
  },
  {
   "cell_type": "code",
   "execution_count": 2,
   "id": "f8a3b163",
   "metadata": {
    "execution": {
     "iopub.execute_input": "2023-12-07T21:45:23.834715Z",
     "iopub.status.busy": "2023-12-07T21:45:23.834080Z",
     "iopub.status.idle": "2023-12-07T21:45:35.298495Z",
     "shell.execute_reply": "2023-12-07T21:45:35.297523Z"
    },
    "papermill": {
     "duration": 11.473553,
     "end_time": "2023-12-07T21:45:35.300640",
     "exception": false,
     "start_time": "2023-12-07T21:45:23.827087",
     "status": "completed"
    },
    "tags": []
   },
   "outputs": [
    {
     "name": "stderr",
     "output_type": "stream",
     "text": [
      "Processing files in A: 100%|██████████| 100/100 [00:00<00:00, 1252.00it/s]\n",
      "Processing files in B: 100%|██████████| 100/100 [00:00<00:00, 1330.34it/s]\n",
      "Processing files in C: 100%|██████████| 100/100 [00:00<00:00, 1408.70it/s]\n",
      "Processing files in D: 100%|██████████| 100/100 [00:00<00:00, 1479.42it/s]\n",
      "Processing files in E: 100%|██████████| 100/100 [00:00<00:00, 1511.35it/s]\n",
      "Processing Patients Train: 100%|██████████| 1400/1400 [00:36<00:00, 38.01it/s]\n",
      "Processing Patients Test: 100%|██████████| 150/150 [00:03<00:00, 39.71it/s]\n"
     ]
    },
    {
     "data": {
      "text/plain": [
       "((32200, 179), (32200, 1), (3450, 179), (3450, 1))"
      ]
     },
     "execution_count": 2,
     "metadata": {},
     "output_type": "execute_result"
    }
   ],
   "source": [
    "config = {\n",
    "    \"data_path\": \"Data/\",\n",
    "    \"preprocess\": True,\n",
    "    \"generate_images\": True,\n",
    "    \"rows_per_person\": 23,\n",
    "    \"frequency\": 178,\n",
    "    \"labels\": 2,\n",
    "    \"add_noise\": True,\n",
    "    \"oversampling\": True,\n",
    "    \"undersampling\": True,\n",
    "    \"test_size\": 0.3\n",
    "}\n",
    "\n",
    "es = EpilepticSeizure(config)\n",
    "\n",
    "X_train, y_train, X_test, y_test = es.process()\n",
    "\n",
    "X_train.shape, y_train.shape, X_test.shape, y_test.shape"
   ]
  },
  {
   "cell_type": "code",
   "execution_count": null,
   "id": "bfccae6e",
   "metadata": {
    "execution": {
     "iopub.execute_input": "2023-12-07T21:45:35.414192Z",
     "iopub.status.busy": "2023-12-07T21:45:35.413918Z",
     "iopub.status.idle": "2023-12-07T21:45:45.074651Z",
     "shell.execute_reply": "2023-12-07T21:45:45.073637Z"
    },
    "papermill": {
     "duration": 9.670526,
     "end_time": "2023-12-07T21:45:45.077103",
     "exception": false,
     "start_time": "2023-12-07T21:45:35.406577",
     "status": "completed"
    },
    "tags": []
   },
   "outputs": [],
   "source": [
    "def scheduler(epoch, lr):\n",
    "    if epoch < 5:\n",
    "        return lr\n",
    "    else:\n",
    "        return lr * tf.math.exp(-0.1)\n",
    "\n",
    "def build_model(num_classes=1):\n",
    "    tf.keras.backend.clear_session()\n",
    "    model = Sequential()\n",
    "    model.add(LSTM(256, input_shape=(1, 178), activation='relu', return_sequences=True))\n",
    "    model.add(LSTM(128, activation='relu', return_sequences=True))\n",
    "    model.add(LSTM(64, activation='relu', return_sequences=True))\n",
    "    model.add(LSTM(32, activation='relu'))\n",
    "    model.add(Dropout(0.5))\n",
    "    model.add(Dense(2, activation='softmax'))\n",
    "\n",
    "    lr_scheduler = LearningRateScheduler(scheduler)\n",
    "\n",
    "    early_stopping = EarlyStopping(monitor='val_loss', patience=5, restore_best_weights=True)\n",
    "\n",
    "    model.compile(optimizer='adam', loss='categorical_crossentropy', metrics=['accuracy'])\n",
    "\n",
    "    return model"
   ]
  },
  {
   "cell_type": "code",
   "execution_count": null,
   "id": "5ab3bc61",
   "metadata": {},
   "outputs": [],
   "source": [
    "model = build_model()\n",
    "model.summary()"
   ]
  },
  {
   "cell_type": "code",
   "execution_count": null,
   "id": "60bef760",
   "metadata": {
    "execution": {
     "iopub.execute_input": "2023-12-07T21:45:45.092283Z",
     "iopub.status.busy": "2023-12-07T21:45:45.091774Z",
     "iopub.status.idle": "2023-12-07T21:45:45.096671Z",
     "shell.execute_reply": "2023-12-07T21:45:45.095833Z"
    },
    "papermill": {
     "duration": 0.014314,
     "end_time": "2023-12-07T21:45:45.098478",
     "exception": false,
     "start_time": "2023-12-07T21:45:45.084164",
     "status": "completed"
    },
    "tags": []
   },
   "outputs": [],
   "source": [
    "test = LeaveOneOut(data, build_model, 14, 'porn_addiction')"
   ]
  },
  {
   "cell_type": "code",
   "execution_count": null,
   "id": "c338ab18",
   "metadata": {
    "execution": {
     "iopub.execute_input": "2023-12-07T21:45:45.112684Z",
     "iopub.status.busy": "2023-12-07T21:45:45.112419Z",
     "iopub.status.idle": "2023-12-07T22:01:46.565175Z",
     "shell.execute_reply": "2023-12-07T22:01:46.564034Z"
    },
    "papermill": {
     "duration": 961.462376,
     "end_time": "2023-12-07T22:01:46.567369",
     "exception": false,
     "start_time": "2023-12-07T21:45:45.104993",
     "status": "completed"
    },
    "tags": []
   },
   "outputs": [],
   "source": [
    "from tensorflow.keras.callbacks import EarlyStopping\n",
    "\n",
    "early_stopping = EarlyStopping(monitor='loss', patience=5, verbose=1)\n",
    "\n",
    "models = test.train(epoch = 5, batch_size = 1250, callbacks = [early_stopping])"
   ]
  }
 ],
 "metadata": {
  "kaggle": {
   "accelerator": "nvidiaTeslaT4",
   "dataSources": [],
   "dockerImageVersionId": 30559,
   "isGpuEnabled": true,
   "isInternetEnabled": true,
   "language": "python",
   "sourceType": "notebook"
  },
  "kernelspec": {
   "display_name": "Python 3 (ipykernel)",
   "language": "python",
   "name": "python3"
  },
  "language_info": {
   "codemirror_mode": {
    "name": "ipython",
    "version": 3
   },
   "file_extension": ".py",
   "mimetype": "text/x-python",
   "name": "python",
   "nbconvert_exporter": "python",
   "pygments_lexer": "ipython3",
   "version": "3.11.3"
  },
  "papermill": {
   "default_parameters": {},
   "duration": 1001.390121,
   "end_time": "2023-12-07T22:01:50.842594",
   "environment_variables": {},
   "exception": null,
   "input_path": "__notebook__.ipynb",
   "output_path": "__notebook__.ipynb",
   "parameters": {},
   "start_time": "2023-12-07T21:45:09.452473",
   "version": "2.4.0"
  }
 },
 "nbformat": 4,
 "nbformat_minor": 5
}
