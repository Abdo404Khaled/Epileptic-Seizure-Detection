{
  "cells": [
    {
      "cell_type": "code",
      "execution_count": 3,
      "metadata": {
        "id": "Rc9ufwl_KGSe"
      },
      "outputs": [],
      "source": [
        "import os\n",
        "import io\n",
        "import numpy as np\n",
        "import pandas as pd\n",
        "from tqdm import tqdm\n",
        "import matplotlib.pyplot as plt\n",
        "from web3 import Web3"
      ]
    },
    {
      "cell_type": "markdown",
      "metadata": {},
      "source": [
        "## Example of storing File on blockchain an then retrieving data from it"
      ]
    },
    {
      "cell_type": "code",
      "execution_count": 2,
      "metadata": {},
      "outputs": [
        {
          "name": "stdout",
          "output_type": "stream",
          "text": [
            "File uploaded to IPFS with CID: Qma94VFefdqoaMq3QZGsh2qPn7p3XMkE9N4MszRwCanNCW, with name signals.csv\n"
          ]
        }
      ],
      "source": [
        "import requests\n",
        "# Path to CSV file\n",
        "file_path = 'Data\\signals.csv'\n",
        "\n",
        "# IPFS HTTP API endpoint\n",
        "url = 'http://127.0.0.1:5001/api/v0/add'\n",
        "\n",
        "# Upload the file\n",
        "with open(file_path, 'rb') as f:\n",
        "    response = requests.post(url, files={'file': f})\n",
        "\n",
        "\n",
        "# Get the CID from the response\n",
        "cid = response.json()['Hash']\n",
        "filename = response.json()['Name']\n",
        "print(f'File uploaded to IPFS with CID: {cid}, with name {filename}')\n",
        "\n",
        "\n"
      ]
    },
    {
      "cell_type": "code",
      "execution_count": 1,
      "metadata": {},
      "outputs": [
        {
          "ename": "AssertionError",
          "evalue": "",
          "output_type": "error",
          "traceback": [
            "\u001b[1;31m---------------------------------------------------------------------------\u001b[0m",
            "\u001b[1;31mAssertionError\u001b[0m                            Traceback (most recent call last)",
            "Cell \u001b[1;32mIn[1], line 8\u001b[0m\n\u001b[0;32m      5\u001b[0m w3 \u001b[38;5;241m=\u001b[39m Web3(Web3\u001b[38;5;241m.\u001b[39mHTTPProvider(ganache_url))\n\u001b[0;32m      7\u001b[0m \u001b[38;5;66;03m# Ensure connection is successful\u001b[39;00m\n\u001b[1;32m----> 8\u001b[0m \u001b[38;5;28;01massert\u001b[39;00m w3\u001b[38;5;241m.\u001b[39mis_connected()\n\u001b[0;32m     10\u001b[0m \u001b[38;5;66;03m# Address of the deployed contract\u001b[39;00m\n\u001b[0;32m     11\u001b[0m contract_address \u001b[38;5;241m=\u001b[39m \u001b[38;5;124m'\u001b[39m\u001b[38;5;124m0xB7Aa04Bce00169Ea7977969f57F698d5849A035f\u001b[39m\u001b[38;5;124m'\u001b[39m\n",
            "\u001b[1;31mAssertionError\u001b[0m: "
          ]
        }
      ],
      "source": [
        "from web3 import Web3\n",
        "\n",
        "# Connect to Ganache\n",
        "ganache_url = 'http://127.0.0.1:8545'\n",
        "w3 = Web3(Web3.HTTPProvider(ganache_url))\n",
        "\n",
        "# Ensure connection is successful\n",
        "assert w3.is_connected()\n",
        "\n",
        "# Address of the deployed contract\n",
        "contract_address = '0xB7Aa04Bce00169Ea7977969f57F698d5849A035f'\n",
        "\n",
        "# ABI of the deployed contract\n",
        "contract_abi = [\n",
        "   {\n",
        "       \"inputs\": [\n",
        "           {\n",
        "               \"internalType\": \"string\",\n",
        "               \"name\": \"_cid\",\n",
        "               \"type\": \"string\"\n",
        "           }\n",
        "       ],\n",
        "       \"name\": \"setCID\",\n",
        "       \"outputs\": [],\n",
        "       \"stateMutability\": \"nonpayable\",\n",
        "       \"type\": \"function\"\n",
        "   },\n",
        "   {\n",
        "       \"inputs\": [],\n",
        "       \"name\": \"getCID\",\n",
        "       \"outputs\": [\n",
        "           {\n",
        "               \"internalType\": \"string\",\n",
        "               \"name\": \"\",\n",
        "               \"type\": \"string\"\n",
        "           }\n",
        "       ],\n",
        "       \"stateMutability\": \"view\",\n",
        "       \"type\": \"function\"\n",
        "   }\n",
        "]\n",
        "\n",
        "# Create contract instance\n",
        "contract = w3.eth.contract(address=contract_address, abi=contract_abi)\n",
        "\n",
        "# Replace with your actual private key and account address\n",
        "private_key = \"0x006b6a54b8d97432c7c0ad7e89e338fdfb3bfe170574e6306dd4b9285a829169\"\n",
        "account = \"0xF38dd7134610bC879bBdE056420F40f221cDF389\"\n",
        "\n",
        "# Check account balance\n",
        "balance = w3.eth.get_balance(account)\n",
        "print(f'Account balance: {w3.from_wei(balance, \"ether\")} Ether')\n",
        "\n",
        "# Ensure the account has sufficient funds\n",
        "required_balance = w3.to_wei(0.1, 'ether')  # Adjust this as needed\n",
        "\n",
        "if balance < required_balance:\n",
        "    print(f'Insufficient funds. Please send at least {w3.from_wei(required_balance, \"ether\")} Ether to the account.')\n",
        "\n",
        "# Set the CID in the contract\n",
        "def set_cid(cid):\n",
        "   nonce = w3.eth.get_transaction_count(account)\n",
        "   txn = contract.functions.setCID(cid).build_transaction({\n",
        "       'chainId': 1337,  # Ganache chain ID\n",
        "       'gas': 6721975,\n",
        "       'gasPrice': w3.to_wei('20', 'gwei'),\n",
        "       'nonce': nonce,\n",
        "   })\n",
        "\n",
        "   signed_txn = w3.eth.account.sign_transaction(txn, private_key=private_key)\n",
        "   tx_hash = w3.eth.send_raw_transaction(signed_txn.rawTransaction)\n",
        "   tx_receipt = w3.eth.wait_for_transaction_receipt(tx_hash)\n",
        "   return tx_receipt\n",
        "\n",
        "# Ensure account has sufficient funds before proceeding\n",
        "if balance >= required_balance:\n",
        "    # Example CID obtained from IPFS upload\n",
        "    cid = 'Qma94VFefdqoaMq3QZGsh2qPn7p3XMkE9N4MszRwCanNCW'\n",
        "    # Set CID\n",
        "    receipt = set_cid(cid)\n",
        "    # Retrieve the CID from the contract\n",
        "    def get_cid():\n",
        "        return contract.functions.getCID().call()\n",
        "\n",
        "    # Get CID\n",
        "    stored_cid = get_cid()\n",
        "    print(f'Stored CID: {stored_cid}')\n",
        "else:\n",
        "    print('Please fund the account and try again.')"
      ]
    },
    {
      "cell_type": "code",
      "execution_count": 43,
      "metadata": {},
      "outputs": [
        {
          "name": "stdout",
          "output_type": "stream",
          "text": [
            "   Unnamed: 0   X1   X2   X3   X4   X5   X6   X7   X8   X9  ...  X170  X171  \\\n",
            "0  X21.V1.791  135  190  229  223  192  125   55   -9  -33  ...   -17   -15   \n",
            "1  X15.V1.924  386  382  356  331  320  315  307  272  244  ...   164   150   \n",
            "2     X8.V1.1  -32  -39  -47  -37  -32  -36  -57  -73  -85  ...    57    64   \n",
            "3   X16.V1.60 -105 -101  -96  -92  -89  -95 -102 -100  -87  ...   -82   -81   \n",
            "4   X20.V1.54   -9  -65  -98 -102  -78  -48  -16    0  -21  ...     4     2   \n",
            "\n",
            "   X172  X173  X174  X175  X176  X177  X178  y  \n",
            "0   -31   -77  -103  -127  -116   -83   -51  4  \n",
            "1   146   152   157   156   154   143   129  1  \n",
            "2    48    19   -12   -30   -35   -35   -36  5  \n",
            "3   -80   -77   -85   -77   -72   -69   -65  5  \n",
            "4   -12   -32   -41   -65   -83   -89   -73  5  \n",
            "\n",
            "[5 rows x 180 columns]\n"
          ]
        }
      ],
      "source": [
        "stored_cid = get_cid()\n",
        "gateway_url = f'http://127.0.0.1:8081/ipfs/{stored_cid}'\n",
        "\n",
        "# Retrieve the file content from IPFS\n",
        "response = requests.get(gateway_url)\n",
        "\n",
        "data_signals = response.content.decode('utf-8')\n",
        "df = pd.read_csv(io.StringIO(data_signals))\n",
        "\n",
        "# Display the DataFrame\n",
        "print(df.head())"
      ]
    },
    {
      "cell_type": "code",
      "execution_count": 44,
      "metadata": {},
      "outputs": [],
      "source": [
        "# CID X_train\n",
        "cid2 = 'QmeevmCbbqcETE6hEyBvExd3mcDsJ8DZvBBatv8mtbSUzX' \n",
        "gateway_url2 = f'http://127.0.0.1:8081/ipfs/{cid2}'\n",
        "response = requests.get(gateway_url2)\n",
        "x_train = pd.read_csv(io.StringIO(response.content.decode('utf-8')))\n",
        "\n",
        "#CID of x_test\n",
        "cid3 = \"QmWibTftNUmUDoEBhdhGuqdVGKP92r9HkjaijUY7z7B4kP\"\n",
        "gateway_url3 = f'http://127.0.0.1:8081/ipfs/{cid3}'\n",
        "response = requests.get(gateway_url3)\n",
        "x_test =pd.read_csv(io.StringIO(response.content.decode('utf-8')))\n",
        "#CID of y_train\n",
        "cid4 = \"QmPPhHJRYguRpKb8wUJrzturGDnZRYMHddxerYbam6Qdxz\"\n",
        "gateway_url4 = f'http://127.0.0.1:8081/ipfs/{cid4}'\n",
        "response = requests.get(gateway_url4)\n",
        "y_train = pd.read_csv(io.StringIO(response.content.decode('utf-8')))\n",
        "\n",
        "#CID of y_test\n",
        "cid5 = \"QmVpX6VX3Kfkpg53YgbfQHKtMQNWb5SVEuvCMqxLpisc3d\"\n",
        "gateway_url5 = f'http://127.0.0.1:8081/ipfs/{cid5}'\n",
        "response = requests.get(gateway_url5)\n",
        "y_test = pd.read_csv(io.StringIO(response.content.decode('utf-8')))"
      ]
    },
    {
      "cell_type": "code",
      "execution_count": 45,
      "metadata": {},
      "outputs": [
        {
          "data": {
            "text/plain": [
              "((42550, 178), (1150, 178), (42550, 1), (1150, 1))"
            ]
          },
          "execution_count": 45,
          "metadata": {},
          "output_type": "execute_result"
        }
      ],
      "source": [
        "x_train.shape, x_test.shape, y_train.shape, y_test.shape"
      ]
    },
    {
      "cell_type": "code",
      "execution_count": 17,
      "metadata": {},
      "outputs": [
        {
          "data": {
            "text/plain": [
              "((42550, 178), (1150, 178), (42550, 1), (1150, 1))"
            ]
          },
          "execution_count": 17,
          "metadata": {},
          "output_type": "execute_result"
        }
      ],
      "source": [
        "x_train = pd.read_csv('data/x_train.csv')\n",
        "x_test = pd.read_csv('data/x_test.csv')\n",
        "y_train = pd.read_csv('data/y_train.csv')\n",
        "y_test = pd.read_csv('data/y_test.csv')\n",
        "\n",
        "\n",
        "x_train.shape, x_test.shape, y_train.shape, y_test.shape"
      ]
    },
    {
      "cell_type": "code",
      "execution_count": 4,
      "metadata": {
        "colab": {
          "base_uri": "https://localhost:8080/"
        },
        "id": "xBV4ZM2OJqiN",
        "outputId": "b09abc45-3e39-461c-ad22-3cea615ab87f"
      },
      "outputs": [
        {
          "name": "stderr",
          "output_type": "stream",
          "text": [
            "Processing images:   4%|▍         | 1733/42550 [00:30<12:27, 54.58it/s]C:\\Users\\Mahmoud\\AppData\\Local\\Temp\\ipykernel_13644\\1668597394.py:8: RuntimeWarning: divide by zero encountered in divide\n",
            "  person_matrix = person_matrix / person_matrix.max()\n",
            "C:\\Users\\Mahmoud\\AppData\\Local\\Temp\\ipykernel_13644\\1668597394.py:8: RuntimeWarning: invalid value encountered in divide\n",
            "  person_matrix = person_matrix / person_matrix.max()\n",
            "Processing images: 100%|██████████| 42550/42550 [20:48<00:00, 34.07it/s]   "
          ]
        },
        {
          "name": "stdout",
          "output_type": "stream",
          "text": [
            "Images are saved in the folder: person_images_train\n"
          ]
        },
        {
          "name": "stderr",
          "output_type": "stream",
          "text": [
            "\n"
          ]
        }
      ],
      "source": [
        "X_reshaped = np.array([x_train.iloc[i, :].values for i in range(len(x_train))])\n",
        "\n",
        "output_folder = 'person_images_train'\n",
        "os.makedirs(output_folder, exist_ok=True)\n",
        "\n",
        "for i, person_data in enumerate(tqdm(X_reshaped, desc='Processing images')):\n",
        "    person_matrix = person_data.reshape((1, 178))\n",
        "    person_matrix = person_matrix / person_matrix.max()\n",
        "    plt.figure(figsize=(8, 4))\n",
        "    plt.imshow(person_matrix, cmap='viridis', interpolation='nearest', aspect='auto')\n",
        "    plt.axis('off')\n",
        "    image_path = os.path.join(output_folder, f'reading_{i}.png')\n",
        "    plt.imsave(image_path, person_matrix, cmap='viridis')\n",
        "    plt.close()\n",
        "\n",
        "print(f\"Images are saved in the folder: {output_folder}\")"
      ]
    },
    {
      "cell_type": "code",
      "execution_count": 4,
      "metadata": {
        "id": "9Kw75U6tMB0J"
      },
      "outputs": [
        {
          "name": "stderr",
          "output_type": "stream",
          "text": [
            "Processing images:   0%|          | 0/1150 [00:00<?, ?it/s]"
          ]
        },
        {
          "name": "stderr",
          "output_type": "stream",
          "text": [
            "Processing images:  36%|███▌      | 415/1150 [00:01<00:03, 218.99it/s]/var/folders/78/20zm8p5d34g6v9kz5nf2tbnm0000gn/T/ipykernel_27969/3224925415.py:8: RuntimeWarning: divide by zero encountered in divide\n",
            "  person_matrix = person_matrix / person_matrix.max()\n",
            "/var/folders/78/20zm8p5d34g6v9kz5nf2tbnm0000gn/T/ipykernel_27969/3224925415.py:8: RuntimeWarning: invalid value encountered in divide\n",
            "  person_matrix = person_matrix / person_matrix.max()\n",
            "Processing images: 100%|██████████| 1150/1150 [00:05<00:00, 202.13it/s]"
          ]
        },
        {
          "name": "stdout",
          "output_type": "stream",
          "text": [
            "Images are saved in the folder: person_images_test\n"
          ]
        },
        {
          "name": "stderr",
          "output_type": "stream",
          "text": [
            "\n"
          ]
        }
      ],
      "source": [
        "X_reshaped = np.array([x_test.iloc[i, :].values for i in range(len(x_test))])\n",
        "\n",
        "output_folder = 'person_images_test'\n",
        "os.makedirs(output_folder, exist_ok=True)\n",
        "\n",
        "for i, person_data in enumerate(tqdm(X_reshaped, desc='Processing images')):\n",
        "    person_matrix = person_data.reshape((1, 178))\n",
        "    person_matrix = person_matrix / person_matrix.max()\n",
        "    plt.figure(figsize=(8, 4))\n",
        "    plt.imshow(person_matrix, cmap='viridis', interpolation='nearest', aspect='auto')\n",
        "    plt.axis('off')\n",
        "    image_path = os.path.join(output_folder, f'reading_{i+1}.png')\n",
        "    plt.imsave(image_path, person_matrix, cmap='viridis')\n",
        "    plt.close()\n",
        "\n",
        "print(f\"Images are saved in the folder: {output_folder}\")"
      ]
    },
    {
      "cell_type": "code",
      "execution_count": null,
      "metadata": {
        "id": "qADrBHy_REWp"
      },
      "outputs": [],
      "source": []
    }
  ],
  "metadata": {
    "accelerator": "GPU",
    "colab": {
      "gpuType": "T4",
      "provenance": []
    },
    "kernelspec": {
      "display_name": "Python 3",
      "name": "python3"
    },
    "language_info": {
      "codemirror_mode": {
        "name": "ipython",
        "version": 3
      },
      "file_extension": ".py",
      "mimetype": "text/x-python",
      "name": "python",
      "nbconvert_exporter": "python",
      "pygments_lexer": "ipython3",
      "version": "3.11.3"
    }
  },
  "nbformat": 4,
  "nbformat_minor": 0
}
