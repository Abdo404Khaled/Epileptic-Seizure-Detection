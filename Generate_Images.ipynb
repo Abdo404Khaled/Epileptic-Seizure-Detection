{
  "cells": [
    {
      "cell_type": "code",
      "execution_count": 1,
      "metadata": {
        "id": "Rc9ufwl_KGSe"
      },
      "outputs": [],
      "source": [
        "import os\n",
        "import pandas as pd\n",
        "import numpy as np\n",
        "from tqdm import tqdm\n",
        "import matplotlib.pyplot as plt"
      ]
    },
    {
      "cell_type": "code",
      "execution_count": 3,
      "metadata": {},
      "outputs": [
        {
          "data": {
            "text/plain": [
              "((42550, 178), (1150, 178), (42550, 1), (1150, 1))"
            ]
          },
          "execution_count": 3,
          "metadata": {},
          "output_type": "execute_result"
        }
      ],
      "source": [
        "x_train = pd.read_csv('data/x_train.csv')\n",
        "x_test = pd.read_csv('data/x_test.csv')\n",
        "y_train = pd.read_csv('data/y_train.csv')\n",
        "y_test = pd.read_csv('data/y_test.csv')\n",
        "\n",
        "\n",
        "x_train.shape, x_test.shape, y_train.shape, y_test.shape"
      ]
    },
    {
      "cell_type": "code",
      "execution_count": 4,
      "metadata": {
        "colab": {
          "base_uri": "https://localhost:8080/"
        },
        "id": "xBV4ZM2OJqiN",
        "outputId": "b09abc45-3e39-461c-ad22-3cea615ab87f"
      },
      "outputs": [
        {
          "name": "stderr",
          "output_type": "stream",
          "text": [
            "Processing images:   4%|▍         | 1733/42550 [00:30<12:27, 54.58it/s]C:\\Users\\Mahmoud\\AppData\\Local\\Temp\\ipykernel_13644\\1668597394.py:8: RuntimeWarning: divide by zero encountered in divide\n",
            "  person_matrix = person_matrix / person_matrix.max()\n",
            "C:\\Users\\Mahmoud\\AppData\\Local\\Temp\\ipykernel_13644\\1668597394.py:8: RuntimeWarning: invalid value encountered in divide\n",
            "  person_matrix = person_matrix / person_matrix.max()\n",
            "Processing images: 100%|██████████| 42550/42550 [20:48<00:00, 34.07it/s]   "
          ]
        },
        {
          "name": "stdout",
          "output_type": "stream",
          "text": [
            "Images are saved in the folder: person_images_train\n"
          ]
        },
        {
          "name": "stderr",
          "output_type": "stream",
          "text": [
            "\n"
          ]
        }
      ],
      "source": [
        "X_reshaped = np.array([x_train.iloc[i, :].values for i in range(len(x_train))])\n",
        "\n",
        "output_folder = 'person_images_train'\n",
        "os.makedirs(output_folder, exist_ok=True)\n",
        "\n",
        "for i, person_data in enumerate(tqdm(X_reshaped, desc='Processing images')):\n",
        "    person_matrix = person_data.reshape((1, 178))\n",
        "    person_matrix = person_matrix / person_matrix.max()\n",
        "    plt.figure(figsize=(8, 4))\n",
        "    plt.imshow(person_matrix, cmap='viridis', interpolation='nearest', aspect='auto')\n",
        "    plt.axis('off')\n",
        "    image_path = os.path.join(output_folder, f'reading_{i}.png')\n",
        "    plt.imsave(image_path, person_matrix, cmap='viridis')\n",
        "    plt.close()\n",
        "\n",
        "print(f\"Images are saved in the folder: {output_folder}\")"
      ]
    },
    {
      "cell_type": "code",
      "execution_count": 4,
      "metadata": {
        "id": "9Kw75U6tMB0J"
      },
      "outputs": [
        {
          "name": "stderr",
          "output_type": "stream",
          "text": [
            "Processing images:   0%|          | 0/1150 [00:00<?, ?it/s]"
          ]
        },
        {
          "name": "stderr",
          "output_type": "stream",
          "text": [
            "Processing images:  36%|███▌      | 415/1150 [00:01<00:03, 218.99it/s]/var/folders/78/20zm8p5d34g6v9kz5nf2tbnm0000gn/T/ipykernel_27969/3224925415.py:8: RuntimeWarning: divide by zero encountered in divide\n",
            "  person_matrix = person_matrix / person_matrix.max()\n",
            "/var/folders/78/20zm8p5d34g6v9kz5nf2tbnm0000gn/T/ipykernel_27969/3224925415.py:8: RuntimeWarning: invalid value encountered in divide\n",
            "  person_matrix = person_matrix / person_matrix.max()\n",
            "Processing images: 100%|██████████| 1150/1150 [00:05<00:00, 202.13it/s]"
          ]
        },
        {
          "name": "stdout",
          "output_type": "stream",
          "text": [
            "Images are saved in the folder: person_images_test\n"
          ]
        },
        {
          "name": "stderr",
          "output_type": "stream",
          "text": [
            "\n"
          ]
        }
      ],
      "source": [
        "X_reshaped = np.array([x_test.iloc[i, :].values for i in range(len(x_test))])\n",
        "\n",
        "output_folder = 'person_images_test'\n",
        "os.makedirs(output_folder, exist_ok=True)\n",
        "\n",
        "for i, person_data in enumerate(tqdm(X_reshaped, desc='Processing images')):\n",
        "    person_matrix = person_data.reshape((1, 178))\n",
        "    person_matrix = person_matrix / person_matrix.max()\n",
        "    plt.figure(figsize=(8, 4))\n",
        "    plt.imshow(person_matrix, cmap='viridis', interpolation='nearest', aspect='auto')\n",
        "    plt.axis('off')\n",
        "    image_path = os.path.join(output_folder, f'reading_{i+1}.png')\n",
        "    plt.imsave(image_path, person_matrix, cmap='viridis')\n",
        "    plt.close()\n",
        "\n",
        "print(f\"Images are saved in the folder: {output_folder}\")"
      ]
    },
    {
      "cell_type": "code",
      "execution_count": null,
      "metadata": {
        "id": "qADrBHy_REWp"
      },
      "outputs": [],
      "source": []
    }
  ],
  "metadata": {
    "accelerator": "GPU",
    "colab": {
      "gpuType": "T4",
      "provenance": []
    },
    "kernelspec": {
      "display_name": "Python 3",
      "name": "python3"
    },
    "language_info": {
      "codemirror_mode": {
        "name": "ipython",
        "version": 3
      },
      "file_extension": ".py",
      "mimetype": "text/x-python",
      "name": "python",
      "nbconvert_exporter": "python",
      "pygments_lexer": "ipython3",
      "version": "3.11.3"
    }
  },
  "nbformat": 4,
  "nbformat_minor": 0
}
